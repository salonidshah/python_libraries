{
 "cells": [
  {
   "cell_type": "code",
   "execution_count": 1,
   "id": "53e3b8f6",
   "metadata": {},
   "outputs": [],
   "source": [
    "import datetime as dt\n",
    "import pandas as pd\n",
    "import seaborn as sns\n",
    "import matplotlib.pyplot as plt"
   ]
  },
  {
   "cell_type": "code",
   "execution_count": 2,
   "id": "9dc6aca8",
   "metadata": {},
   "outputs": [
    {
     "data": {
      "text/html": [
       "<div>\n",
       "<style scoped>\n",
       "    .dataframe tbody tr th:only-of-type {\n",
       "        vertical-align: middle;\n",
       "    }\n",
       "\n",
       "    .dataframe tbody tr th {\n",
       "        vertical-align: top;\n",
       "    }\n",
       "\n",
       "    .dataframe thead th {\n",
       "        text-align: right;\n",
       "    }\n",
       "</style>\n",
       "<table border=\"1\" class=\"dataframe\">\n",
       "  <thead>\n",
       "    <tr style=\"text-align: right;\">\n",
       "      <th></th>\n",
       "      <th>username</th>\n",
       "      <th>datetime</th>\n",
       "      <th>attempt</th>\n",
       "    </tr>\n",
       "  </thead>\n",
       "  <tbody>\n",
       "    <tr>\n",
       "      <th>0</th>\n",
       "      <td>priyal</td>\n",
       "      <td>12-03-2023 01:00</td>\n",
       "      <td>fail</td>\n",
       "    </tr>\n",
       "    <tr>\n",
       "      <th>1</th>\n",
       "      <td>rinky</td>\n",
       "      <td>25-03-2023 09:00</td>\n",
       "      <td>pass</td>\n",
       "    </tr>\n",
       "    <tr>\n",
       "      <th>2</th>\n",
       "      <td>saloni</td>\n",
       "      <td>27-03-2023 06:00</td>\n",
       "      <td>pass</td>\n",
       "    </tr>\n",
       "    <tr>\n",
       "      <th>3</th>\n",
       "      <td>saloni</td>\n",
       "      <td>27-03-2023 12:00</td>\n",
       "      <td>fail</td>\n",
       "    </tr>\n",
       "    <tr>\n",
       "      <th>4</th>\n",
       "      <td>saloni</td>\n",
       "      <td>15-03-2023 11:00</td>\n",
       "      <td>pass</td>\n",
       "    </tr>\n",
       "  </tbody>\n",
       "</table>\n",
       "</div>"
      ],
      "text/plain": [
       "  username          datetime attempt\n",
       "0   priyal  12-03-2023 01:00    fail\n",
       "1    rinky  25-03-2023 09:00    pass\n",
       "2   saloni  27-03-2023 06:00    pass\n",
       "3  saloni   27-03-2023 12:00    fail\n",
       "4   saloni  15-03-2023 11:00    pass"
      ]
     },
     "execution_count": 2,
     "metadata": {},
     "output_type": "execute_result"
    }
   ],
   "source": [
    "data= pd.read_csv('user_login_attempts.csv')\n",
    "df=pd.DataFrame(data)\n",
    "df.head()"
   ]
  },
  {
   "cell_type": "code",
   "execution_count": 3,
   "id": "371943ed",
   "metadata": {},
   "outputs": [
    {
     "data": {
      "text/plain": [
       "0   2023-03-12 01:00:00\n",
       "1   2023-03-25 09:00:00\n",
       "2   2023-03-27 06:00:00\n",
       "3   2023-03-27 12:00:00\n",
       "4   2023-03-15 11:00:00\n",
       "5   2023-03-12 12:00:00\n",
       "Name: datetime, dtype: datetime64[ns]"
      ]
     },
     "execution_count": 3,
     "metadata": {},
     "output_type": "execute_result"
    }
   ],
   "source": [
    "df['username']=df['username'].str.strip()\n",
    "df['datetime'] = pd.to_datetime(df['datetime'], format='%d-%m-%Y %H:%M')\n",
    "df['datetime']"
   ]
  },
  {
   "cell_type": "code",
   "execution_count": 4,
   "id": "6363b392",
   "metadata": {},
   "outputs": [
    {
     "data": {
      "text/plain": [
       "saloni    4\n",
       "priyal    1\n",
       "rinky     1\n",
       "Name: username, dtype: int64"
      ]
     },
     "execution_count": 4,
     "metadata": {},
     "output_type": "execute_result"
    }
   ],
   "source": [
    "df.username.value_counts()"
   ]
  },
  {
   "cell_type": "code",
   "execution_count": 5,
   "id": "2c341875",
   "metadata": {},
   "outputs": [
    {
     "data": {
      "text/plain": [
       "0    2023-03-12\n",
       "1    2023-03-25\n",
       "2    2023-03-27\n",
       "3    2023-03-27\n",
       "4    2023-03-15\n",
       "5    2023-03-12\n",
       "Name: date, dtype: object"
      ]
     },
     "execution_count": 5,
     "metadata": {},
     "output_type": "execute_result"
    }
   ],
   "source": [
    "df['date'] = pd.to_datetime(df['datetime']).dt.date\n",
    "df['date']"
   ]
  },
  {
   "cell_type": "code",
   "execution_count": 6,
   "id": "973a64fe",
   "metadata": {},
   "outputs": [
    {
     "data": {
      "text/html": [
       "<div>\n",
       "<style scoped>\n",
       "    .dataframe tbody tr th:only-of-type {\n",
       "        vertical-align: middle;\n",
       "    }\n",
       "\n",
       "    .dataframe tbody tr th {\n",
       "        vertical-align: top;\n",
       "    }\n",
       "\n",
       "    .dataframe thead th {\n",
       "        text-align: right;\n",
       "    }\n",
       "</style>\n",
       "<table border=\"1\" class=\"dataframe\">\n",
       "  <thead>\n",
       "    <tr style=\"text-align: right;\">\n",
       "      <th></th>\n",
       "      <th>username</th>\n",
       "      <th>datetime</th>\n",
       "      <th>attempt</th>\n",
       "      <th>date</th>\n",
       "    </tr>\n",
       "  </thead>\n",
       "  <tbody>\n",
       "    <tr>\n",
       "      <th>0</th>\n",
       "      <td>priyal</td>\n",
       "      <td>2023-03-12 01:00:00</td>\n",
       "      <td>fail</td>\n",
       "      <td>2023-03-12</td>\n",
       "    </tr>\n",
       "    <tr>\n",
       "      <th>1</th>\n",
       "      <td>rinky</td>\n",
       "      <td>2023-03-25 09:00:00</td>\n",
       "      <td>pass</td>\n",
       "      <td>2023-03-25</td>\n",
       "    </tr>\n",
       "    <tr>\n",
       "      <th>2</th>\n",
       "      <td>saloni</td>\n",
       "      <td>2023-03-27 06:00:00</td>\n",
       "      <td>pass</td>\n",
       "      <td>2023-03-27</td>\n",
       "    </tr>\n",
       "    <tr>\n",
       "      <th>3</th>\n",
       "      <td>saloni</td>\n",
       "      <td>2023-03-27 12:00:00</td>\n",
       "      <td>fail</td>\n",
       "      <td>2023-03-27</td>\n",
       "    </tr>\n",
       "    <tr>\n",
       "      <th>4</th>\n",
       "      <td>saloni</td>\n",
       "      <td>2023-03-15 11:00:00</td>\n",
       "      <td>pass</td>\n",
       "      <td>2023-03-15</td>\n",
       "    </tr>\n",
       "    <tr>\n",
       "      <th>5</th>\n",
       "      <td>saloni</td>\n",
       "      <td>2023-03-12 12:00:00</td>\n",
       "      <td>fail</td>\n",
       "      <td>2023-03-12</td>\n",
       "    </tr>\n",
       "  </tbody>\n",
       "</table>\n",
       "</div>"
      ],
      "text/plain": [
       "  username            datetime attempt        date\n",
       "0   priyal 2023-03-12 01:00:00    fail  2023-03-12\n",
       "1    rinky 2023-03-25 09:00:00    pass  2023-03-25\n",
       "2   saloni 2023-03-27 06:00:00    pass  2023-03-27\n",
       "3   saloni 2023-03-27 12:00:00    fail  2023-03-27\n",
       "4   saloni 2023-03-15 11:00:00    pass  2023-03-15\n",
       "5   saloni 2023-03-12 12:00:00    fail  2023-03-12"
      ]
     },
     "execution_count": 6,
     "metadata": {},
     "output_type": "execute_result"
    }
   ],
   "source": [
    "df"
   ]
  },
  {
   "cell_type": "code",
   "execution_count": 7,
   "id": "c3751f2e",
   "metadata": {},
   "outputs": [
    {
     "data": {
      "text/plain": [
       "<AxesSubplot:xlabel='date', ylabel='count'>"
      ]
     },
     "execution_count": 7,
     "metadata": {},
     "output_type": "execute_result"
    },
    {
     "data": {
      "image/png": "[encoded data removed]",
      "text/plain": [
       "<Figure size 432x288 with 1 Axes>"
      ]
     },
     "metadata": {
      "needs_background": "light"
     },
     "output_type": "display_data"
    }
   ],
   "source": [
    "sns.countplot(x = 'date',hue = 'username',data = df)"
   ]
  },
  {
   "cell_type": "code",
   "execution_count": 13,
   "id": "af6b4a69",
   "metadata": {},
   "outputs": [
    {
     "data": {
      "text/plain": [
       "Text(0.5, 1.0, 'Number of times user attempts to login')"
      ]
     },
     "execution_count": 13,
     "metadata": {},
     "output_type": "execute_result"
    },
    {
     "data": {
      "image/png": "[encoded data removed]",
      "text/plain": [
       "<Figure size 432x288 with 1 Axes>"
      ]
     },
     "metadata": {
      "needs_background": "light"
     },
     "output_type": "display_data"
    }
   ],
   "source": [
    "df.plot.scatter(x='username',y='datetime',s=50)\n",
    "plt.title(\"Number of times user attempts to login\")"
   ]
  }
 ],
 "metadata": {
  "kernelspec": {
   "display_name": "Python 3 (ipykernel)",
   "language": "python",
   "name": "python3"
  },
  "language_info": {
   "codemirror_mode": {
    "name": "ipython",
    "version": 3
   },
   "file_extension": ".py",
   "mimetype": "text/x-python",
   "name": "python",
   "nbconvert_exporter": "python",
   "pygments_lexer": "ipython3",
   "version": "3.9.12"
  }
 },
 "nbformat": 4,
 "nbformat_minor": 5
}
